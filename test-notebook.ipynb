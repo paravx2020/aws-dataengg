{
 "cells": [
  {
   "cell_type": "code",
   "execution_count": 13,
   "metadata": {},
   "outputs": [
    {
     "name": "stdout",
     "output_type": "stream",
     "text": [
      "{'name': 'Leonard Johnson', 'address': '806 Kelsey Pine Apt. 979\\nAngelafurt, WY 56106', 'email': 'chapmanelizabeth@example.org'}\n",
      "{'job': 'Clinical embryologist', 'company': 'Miller-Escobar', 'ssn': '048-09-8938', 'residence': '45510 Avery Landing\\nLake Whitney, IA 65934', 'current_location': (Decimal('18.736817'), Decimal('58.594407')), 'blood_group': 'AB-', 'website': ['https://charles-hughes.com/', 'https://ortiz-ruiz.com/', 'http://www.jensen.info/', 'http://www.lin.com/'], 'username': 'davisadam', 'name': 'James Walker', 'sex': 'M', 'address': '671 Hughes Parks Suite 027\\nShanefort, AR 31098', 'mail': 'pbrady@hotmail.com', 'birthdate': datetime.date(1957, 7, 24)}\n"
     ]
    }
   ],
   "source": [
    "from faker import Faker\n",
    "fake = Faker()\n",
    "message = {\n",
    "    'name': fake.name(),\n",
    "    'address': fake.address(),\n",
    "    'email': fake.email()\n",
    "}\n",
    "print(message)\n",
    "\n",
    "## for complete profile\n",
    "print(fake.profile())"
   ]
  }
 ],
 "metadata": {
  "kernelspec": {
   "display_name": "dev",
   "language": "python",
   "name": "python3"
  },
  "language_info": {
   "codemirror_mode": {
    "name": "ipython",
    "version": 3
   },
   "file_extension": ".py",
   "mimetype": "text/x-python",
   "name": "python",
   "nbconvert_exporter": "python",
   "pygments_lexer": "ipython3",
   "version": "3.11.9"
  }
 },
 "nbformat": 4,
 "nbformat_minor": 2
}
