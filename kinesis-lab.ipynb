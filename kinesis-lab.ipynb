{
 "cells": [
  {
   "cell_type": "markdown",
   "metadata": {},
   "source": [
    "## boto3 client and kinesis data stream creation"
   ]
  },
  {
   "cell_type": "code",
   "execution_count": null,
   "metadata": {},
   "outputs": [],
   "source": [
    "import boto3\n",
    "import json\n",
    "import time\n",
    "import random\n",
    "\n",
    "# Create a Boto3 Kinesis client\n",
    "kinesis_client = boto3.client('kinesis')\n",
    "\n",
    "# Function to create a Kinesis Data Stream\n",
    "def create_kinesis_stream(stream_name):\n",
    "    # Define the parameters for creating the stream\n",
    "    stream_creation_params = {\n",
    "        'StreamName': stream_name,\n",
    "        'ShardCount': 2  # Number of shards for the stream\n",
    "    }\n",
    "\n",
    "    # Create the Kinesis Data Stream\n",
    "    response = kinesis_client.create_stream(**stream_creation_params)\n",
    "    \n",
    "    return response\n",
    "\n"
   ]
  },
  {
   "cell_type": "markdown",
   "metadata": {},
   "source": [
    "## used for producer (kinesis data stream)"
   ]
  },
  {
   "cell_type": "code",
   "execution_count": null,
   "metadata": {},
   "outputs": [],
   "source": [
    "def put_weather_data(city, temperature, humidity):\n",
    "    try:\n",
    "        data = {\n",
    "            \"city\": city,\n",
    "            \"temperature\": temperature,\n",
    "            \"humidity\": humidity,\n",
    "            \"timestamp\": int(time.time())\n",
    "        }\n",
    "\n",
    "        response = kinesis_client.put_record(\n",
    "            StreamName=stream_name,\n",
    "            Data=json.dumps(data),\n",
    "            PartitionKey=city\n",
    "        )\n",
    "        print(f\"Weather data written to Kinesis. SequenceNumber: {response['SequenceNumber']}, ShardId: {response['ShardId']}, Data: {data}\")\n",
    "    except Exception as e:\n",
    "        print(f\"Error: {e}\")"
   ]
  },
  {
   "cell_type": "markdown",
   "metadata": {},
   "source": [
    "## used for consumer (kinesis data stream)"
   ]
  },
  {
   "cell_type": "code",
   "execution_count": null,
   "metadata": {},
   "outputs": [],
   "source": [
    "\n",
    "def get_shard_iterator():\n",
    "    response = kinesis_client.get_shard_iterator(\n",
    "        StreamName=stream_name,\n",
    "        ShardId='shardId-000000000001',  # Replace with your shard ID\n",
    "        ShardIteratorType='TRIM_HORIZON'\n",
    "    )\n",
    "    return response['ShardIterator']\n",
    "\n",
    "def get_records(shard_iterator):\n",
    "    response = kinesis_client.get_records(\n",
    "        ShardIterator=shard_iterator,\n",
    "        Limit=10\n",
    "    )\n",
    "    return response.get('Records', []), response.get('NextShardIterator')"
   ]
  },
  {
   "cell_type": "code",
   "execution_count": null,
   "metadata": {},
   "outputs": [],
   "source": [
    "def process_weather_data(data):\n",
    "    print(f\"Received Weather Data: {data}\")"
   ]
  },
  {
   "cell_type": "markdown",
   "metadata": {},
   "source": [
    "## main() - Kinesis Data Stream"
   ]
  },
  {
   "cell_type": "code",
   "execution_count": null,
   "metadata": {},
   "outputs": [],
   "source": [
    "# Main function\n",
    "if __name__ == \"__main__\":\n",
    "    # Specify the name of the Kinesis Data Stream\n",
    "    stream_name = 'paravx1-datastream'  # Change to your desired stream name\n",
    "\n",
    "    # Create the Kinesis Data Stream\n",
    "    weather_stream = create_kinesis_stream(stream_name)\n",
    "\n",
    "    # Print the response from the create_stream operation\n",
    "    print(weather_stream)\n"
   ]
  },
  {
   "cell_type": "markdown",
   "metadata": {},
   "source": [
    "## To add weather data to Kinesis Data Stream"
   ]
  },
  {
   "cell_type": "code",
   "execution_count": null,
   "metadata": {},
   "outputs": [],
   "source": [
    "    cities = [\"New York\", \"Los Angeles\", \"Chicago\", \"Houston\", \"Miami\"]\n",
    "\n",
    "    for _ in range(5):\n",
    "        city = random.choice(cities)\n",
    "        temperature = round(random.uniform(10, 30), 2)\n",
    "        humidity = round(random.uniform(40, 80), 2)\n",
    "\n",
    "        put_weather_data(city, temperature, humidity)\n",
    "        time.sleep(2)  # Simulating periodic data transmission"
   ]
  },
  {
   "cell_type": "markdown",
   "metadata": {},
   "source": [
    "## Reading / getting records from kinesis data stream"
   ]
  },
  {
   "cell_type": "code",
   "execution_count": null,
   "metadata": {},
   "outputs": [],
   "source": [
    "    shard_iterator = get_shard_iterator()\n",
    "\n",
    "    while True:\n",
    "        records, next_shard_iterator = get_records(shard_iterator)\n",
    "        for record in records:\n",
    "            data = json.loads(record['Data'])\n",
    "            process_weather_data(data)\n",
    "\n",
    "        if not next_shard_iterator:\n",
    "            print(\"No more records in the shard. Exiting.\")\n",
    "            break\n",
    "\n",
    "        shard_iterator = next_shard_iterator\n",
    "        time.sleep(2)  # Add a delay between reads (adjust as needed)"
   ]
  },
  {
   "cell_type": "markdown",
   "metadata": {},
   "source": [
    "## To Describe Kinesis Data Stream"
   ]
  },
  {
   "cell_type": "code",
   "execution_count": null,
   "metadata": {},
   "outputs": [],
   "source": [
    "!aws kinesis describe-stream-summary --stream-name 'paravx1-datastream'"
   ]
  },
  {
   "cell_type": "markdown",
   "metadata": {},
   "source": [
    "## To delete Kinesis Data Stream"
   ]
  },
  {
   "cell_type": "code",
   "execution_count": null,
   "metadata": {},
   "outputs": [],
   "source": [
    "!aws kinesis delete-stream --stream-name 'paravx1-datastream'"
   ]
  }
 ],
 "metadata": {
  "kernelspec": {
   "display_name": "dev",
   "language": "python",
   "name": "python3"
  },
  "language_info": {
   "codemirror_mode": {
    "name": "ipython",
    "version": 3
   },
   "file_extension": ".py",
   "mimetype": "text/x-python",
   "name": "python",
   "nbconvert_exporter": "python",
   "pygments_lexer": "ipython3",
   "version": "3.11.9"
  }
 },
 "nbformat": 4,
 "nbformat_minor": 2
}
